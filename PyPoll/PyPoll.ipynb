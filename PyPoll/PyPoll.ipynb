{
 "cells": [
  {
   "cell_type": "code",
   "execution_count": 1,
   "metadata": {},
   "outputs": [],
   "source": [
    "import pandas as pd"
   ]
  },
  {
   "cell_type": "code",
   "execution_count": 3,
   "metadata": {},
   "outputs": [
    {
     "data": {
      "text/html": [
       "<div>\n",
       "<style scoped>\n",
       "    .dataframe tbody tr th:only-of-type {\n",
       "        vertical-align: middle;\n",
       "    }\n",
       "\n",
       "    .dataframe tbody tr th {\n",
       "        vertical-align: top;\n",
       "    }\n",
       "\n",
       "    .dataframe thead th {\n",
       "        text-align: right;\n",
       "    }\n",
       "</style>\n",
       "<table border=\"1\" class=\"dataframe\">\n",
       "  <thead>\n",
       "    <tr style=\"text-align: right;\">\n",
       "      <th></th>\n",
       "      <th>Voter ID</th>\n",
       "      <th>County</th>\n",
       "      <th>Candidate</th>\n",
       "    </tr>\n",
       "  </thead>\n",
       "  <tbody>\n",
       "    <tr>\n",
       "      <th>0</th>\n",
       "      <td>12864552</td>\n",
       "      <td>Marsh</td>\n",
       "      <td>Khan</td>\n",
       "    </tr>\n",
       "    <tr>\n",
       "      <th>1</th>\n",
       "      <td>17444633</td>\n",
       "      <td>Marsh</td>\n",
       "      <td>Correy</td>\n",
       "    </tr>\n",
       "    <tr>\n",
       "      <th>2</th>\n",
       "      <td>19330107</td>\n",
       "      <td>Marsh</td>\n",
       "      <td>Khan</td>\n",
       "    </tr>\n",
       "    <tr>\n",
       "      <th>3</th>\n",
       "      <td>19865775</td>\n",
       "      <td>Queen</td>\n",
       "      <td>Khan</td>\n",
       "    </tr>\n",
       "    <tr>\n",
       "      <th>4</th>\n",
       "      <td>11927875</td>\n",
       "      <td>Marsh</td>\n",
       "      <td>Khan</td>\n",
       "    </tr>\n",
       "  </tbody>\n",
       "</table>\n",
       "</div>"
      ],
      "text/plain": [
       "   Voter ID County Candidate\n",
       "0  12864552  Marsh      Khan\n",
       "1  17444633  Marsh    Correy\n",
       "2  19330107  Marsh      Khan\n",
       "3  19865775  Queen      Khan\n",
       "4  11927875  Marsh      Khan"
      ]
     },
     "execution_count": 3,
     "metadata": {},
     "output_type": "execute_result"
    }
   ],
   "source": [
    "complete_df = pd.read_csv(\"Resources/election_data.csv\")\n",
    "complete_df.head()"
   ]
  },
  {
   "cell_type": "code",
   "execution_count": 7,
   "metadata": {},
   "outputs": [
    {
     "data": {
      "text/plain": [
       "3521001"
      ]
     },
     "execution_count": 7,
     "metadata": {},
     "output_type": "execute_result"
    }
   ],
   "source": [
    "total_votes = complete_df['Voter ID'].count()\n",
    "total_votes"
   ]
  },
  {
   "cell_type": "code",
   "execution_count": 11,
   "metadata": {},
   "outputs": [
    {
     "data": {
      "text/plain": [
       "2218231"
      ]
     },
     "execution_count": 11,
     "metadata": {},
     "output_type": "execute_result"
    }
   ],
   "source": [
    "khan_df = complete_df.loc[complete_df['Candidate'] == \"Khan\"]\n",
    "khan_count = khan_df['Voter ID'].count()\n",
    "khan_count"
   ]
  },
  {
   "cell_type": "code",
   "execution_count": 20,
   "metadata": {},
   "outputs": [
    {
     "data": {
      "text/plain": [
       "63.00001050837531"
      ]
     },
     "execution_count": 20,
     "metadata": {},
     "output_type": "execute_result"
    }
   ],
   "source": [
    "khan_percent = khan_count/ total_votes * 100\n",
    "khan_percent"
   ]
  },
  {
   "cell_type": "code",
   "execution_count": 21,
   "metadata": {},
   "outputs": [
    {
     "data": {
      "text/plain": [
       "array(['Khan', 'Correy', 'Li', \"O'Tooley\"], dtype=object)"
      ]
     },
     "execution_count": 21,
     "metadata": {},
     "output_type": "execute_result"
    }
   ],
   "source": [
    "complete_df['Candidate'].unique()"
   ]
  },
  {
   "cell_type": "code",
   "execution_count": 22,
   "metadata": {},
   "outputs": [
    {
     "data": {
      "text/plain": [
       "704200"
      ]
     },
     "execution_count": 22,
     "metadata": {},
     "output_type": "execute_result"
    }
   ],
   "source": [
    "correy_df = complete_df.loc[complete_df['Candidate'] == \"Correy\"]\n",
    "correy_count = correy_df['Voter ID'].count()\n",
    "correy_count"
   ]
  },
  {
   "cell_type": "code",
   "execution_count": 23,
   "metadata": {},
   "outputs": [
    {
     "data": {
      "text/plain": [
       "19.999994319797125"
      ]
     },
     "execution_count": 23,
     "metadata": {},
     "output_type": "execute_result"
    }
   ],
   "source": [
    "correy_percent = correy_count / total_votes * 100\n",
    "correy_percent"
   ]
  },
  {
   "cell_type": "code",
   "execution_count": 26,
   "metadata": {},
   "outputs": [
    {
     "data": {
      "text/plain": [
       "492940"
      ]
     },
     "execution_count": 26,
     "metadata": {},
     "output_type": "execute_result"
    }
   ],
   "source": [
    "li_df = complete_df.loc[complete_df['Candidate'] == \"Li\"]\n",
    "li_count = li_df['Voter ID'].count()\n",
    "li_count"
   ]
  },
  {
   "cell_type": "code",
   "execution_count": 27,
   "metadata": {},
   "outputs": [
    {
     "data": {
      "text/plain": [
       "13.999996023857989"
      ]
     },
     "execution_count": 27,
     "metadata": {},
     "output_type": "execute_result"
    }
   ],
   "source": [
    "li_percent = li_count / total_votes * 100\n",
    "li_percent"
   ]
  },
  {
   "cell_type": "code",
   "execution_count": 32,
   "metadata": {},
   "outputs": [
    {
     "data": {
      "text/plain": [
       "105630"
      ]
     },
     "execution_count": 32,
     "metadata": {},
     "output_type": "execute_result"
    }
   ],
   "source": [
    "otooley_df = complete_df.loc[complete_df['Candidate'] == \"O'Tooley\"]\n",
    "otooley_df.head()\n",
    "otooley_count = otooley_df['Voter ID'].count()\n",
    "otooley_count"
   ]
  },
  {
   "cell_type": "code",
   "execution_count": 33,
   "metadata": {},
   "outputs": [
    {
     "data": {
      "text/plain": [
       "2.999999147969569"
      ]
     },
     "execution_count": 33,
     "metadata": {},
     "output_type": "execute_result"
    }
   ],
   "source": [
    "otooley_percent = otooley_count / total_votes * 100\n",
    "otooley_percent"
   ]
  },
  {
   "cell_type": "code",
   "execution_count": 53,
   "metadata": {},
   "outputs": [
    {
     "name": "stdout",
     "output_type": "stream",
     "text": [
      "***Election Results***\n",
      "-----------------------\n",
      "Total Votes: 3521001\n",
      "---------------------------\n",
      "Khan : 63.00001050837531% (2218231)\n",
      "Correy : 19.999994319797125% (704200)\n",
      "Li : 13.999996023857989% (492940)\n",
      "O'Tooley : 2.999999147969569% (105630)\n",
      "----------------------------\n",
      "Winner : Khan\n",
      "----------------------------\n"
     ]
    }
   ],
   "source": [
    "print(\"***Election Results***\\n-----------------------\"+\n",
    "     \"\\nTotal Votes: \" + str(total_votes) +\n",
    "     \"\\n---------------------------\" +\n",
    "     \"\\nKhan : \" + str(khan_percent) + \"% \" + \"(\" + str(khan_count) + \")\" \n",
    "     \"\\nCorrey : \" + str(correy_percent)+ \"% \" + \"(\" + str(correy_count) + \")\"\n",
    "     \"\\nLi : \" + str(li_percent) + \"% \" + \"(\" + str(li_count) + \")\" \n",
    "     \"\\nO'Tooley : \" + str(otooley_percent) + \"% \" + \"(\" + str(otooley_count) + \")\"\n",
    "     \"\\n----------------------------\"\n",
    "     \"\\nWinner : Khan\"\n",
    "     \"\\n----------------------------\")"
   ]
  },
  {
   "cell_type": "code",
   "execution_count": 54,
   "metadata": {},
   "outputs": [],
   "source": [
    "text_file = open(\"Output.txt\", \"w\")\n",
    "text_file.write(\"***Election Results***\\n-----------------------\"+\n",
    "     \"\\nTotal Votes: \" + str(total_votes) +\n",
    "     \"\\n---------------------------\" +\n",
    "     \"\\nKhan : \" + str(khan_percent) + \"% \" + \"(\" + str(khan_count) + \")\" \n",
    "     \"\\nCorrey : \" + str(correy_percent)+ \"% \" + \"(\" + str(correy_count) + \")\"\n",
    "     \"\\nLi : \" + str(li_percent) + \"% \" + \"(\" + str(li_count) + \")\" \n",
    "     \"\\nO'Tooley : \" + str(otooley_percent) + \"% \" + \"(\" + str(otooley_count) + \")\"\n",
    "     \"\\n----------------------------\"\n",
    "     \"\\nWinner : Khan\"\n",
    "     \"\\n----------------------------\")\n",
    "text_file.close()"
   ]
  },
  {
   "cell_type": "code",
   "execution_count": null,
   "metadata": {},
   "outputs": [],
   "source": []
  }
 ],
 "metadata": {
  "kernelspec": {
   "display_name": "Python 3",
   "language": "python",
   "name": "python3"
  },
  "language_info": {
   "codemirror_mode": {
    "name": "ipython",
    "version": 3
   },
   "file_extension": ".py",
   "mimetype": "text/x-python",
   "name": "python",
   "nbconvert_exporter": "python",
   "pygments_lexer": "ipython3",
   "version": "3.6.0"
  }
 },
 "nbformat": 4,
 "nbformat_minor": 2
}
