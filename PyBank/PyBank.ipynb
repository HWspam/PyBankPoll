{
 "cells": [
  {
   "cell_type": "code",
   "execution_count": 204,
   "metadata": {},
   "outputs": [],
   "source": [
    "import pandas as pd\n",
    "import numpy as np"
   ]
  },
  {
   "cell_type": "code",
   "execution_count": 205,
   "metadata": {},
   "outputs": [],
   "source": [
    "bank_info_df = pd.read_csv(\"Resources/budget_data.csv\")\n",
    "month_total = bank_info_df.shape[0] #final \n",
    "profit_loss_sum = bank_info_df['Profit/Losses'].sum() #final \n",
    "profit_loss_list = bank_info_df['Profit/Losses'].tolist() #list for interation"
   ]
  },
  {
   "cell_type": "code",
   "execution_count": 206,
   "metadata": {},
   "outputs": [],
   "source": [
    "def calc_avr_change(arr):\n",
    "        \n",
    "    #create increment\n",
    "    inc = 0\n",
    "    \n",
    "    #set aveage change var\n",
    "    diff = 0\n",
    "    \n",
    "    #list for differences between months\n",
    "    total_for_ave_df = []\n",
    "\n",
    "    #get difference between each element        \n",
    "    for x in arr:\n",
    "        while (inc < len(arr)-1):\n",
    "            diff = arr[inc+1] - arr[inc]\n",
    "            total_for_ave_df.append(diff)\n",
    "            inc = inc + 1\n",
    "\n",
    "\n",
    "    #put diffs into df\n",
    "    df_for_diff = pd.DataFrame(data=total_for_ave_df)\n",
    "    \n",
    "    #use df for mean\n",
    "    avr_df = df_for_diff[0].mean()\n",
    "    \n",
    "    return avr_df"
   ]
  },
  {
   "cell_type": "code",
   "execution_count": null,
   "metadata": {},
   "outputs": [],
   "source": []
  },
  {
   "cell_type": "code",
   "execution_count": 208,
   "metadata": {},
   "outputs": [
    {
     "data": {
      "text/plain": [
       "Date    Feb-2012 $1926159\n",
       "Name: 25, dtype: object"
      ]
     },
     "execution_count": 208,
     "metadata": {},
     "output_type": "execute_result"
    }
   ],
   "source": [
    "def greatest_increase(df,arr):\n",
    "    \n",
    "    #create increment\n",
    "    inc = 0\n",
    "    \n",
    "    #create highest\n",
    "    highest_value = 0\n",
    "    \n",
    "    #store diff value\n",
    "    diff =  0\n",
    "    \n",
    "    #get month\n",
    "    df_index_month = 0\n",
    "\n",
    "    #get difference between each element and change highest value       \n",
    "    for x in arr:\n",
    "        while (inc < len(arr)-1):\n",
    "            diff = arr[inc+1] - arr[inc]\n",
    "            if(diff > highest_value):\n",
    "                highest_value = diff\n",
    "                df_index_month = arr.index(arr[inc])+1\n",
    "            inc = inc + 1\n",
    "            \n",
    "    month = df.iloc[df_index_month,0:1]\n",
    "    return(month + \" $\" + str(highest_value))"
   ]
  },
  {
   "cell_type": "code",
   "execution_count": 210,
   "metadata": {},
   "outputs": [
    {
     "data": {
      "text/plain": [
       "Date    Sep-2013 $-2196167\n",
       "Name: 44, dtype: object"
      ]
     },
     "execution_count": 210,
     "metadata": {},
     "output_type": "execute_result"
    }
   ],
   "source": [
    "def greatest_loss(df,arr):\n",
    "    \n",
    "    #create increment\n",
    "    inc = 0\n",
    "    \n",
    "    #create lowest var\n",
    "    lowest_value = 0\n",
    "    \n",
    "    #store diff value\n",
    "    diff =  0\n",
    "    \n",
    "    #get month\n",
    "    df_index_month = 0\n",
    "\n",
    "    #get difference between each element and change lowest      \n",
    "    for x in arr:\n",
    "        while (inc < len(arr)-1):\n",
    "            diff = arr[inc+1] - arr[inc]\n",
    "            if(diff < lowest_value):\n",
    "                lowest_value = diff\n",
    "                df_index_month = arr.index(arr[inc])+1\n",
    "            inc = inc + 1\n",
    "            \n",
    "    \n",
    "\n",
    "    month = df.iloc[df_index_month,0:1]\n",
    "    \n",
    "    return(month + \" $\" + str(lowest_value))"
   ]
  },
  {
   "cell_type": "code",
   "execution_count": 211,
   "metadata": {},
   "outputs": [
    {
     "name": "stdout",
     "output_type": "stream",
     "text": [
      "***Financial Analysis***\n",
      "-------------------------\n",
      "Total months: 86\n",
      "Total: $38382578\n",
      "Average Change: -2315.1176470588234\n",
      "Greatest Increase in Profits: Date    Feb-2012 $1926159\n",
      "Name: 25, dtype: object\n",
      "Greatest Loss in Profits: Date    Sep-2013 $-2196167\n",
      "Name: 44, dtype: object\n",
      "\n",
      "\n",
      "\n",
      "\n",
      "How can I use iloc or a df indexing and not return the Name and dtype???????\n"
     ]
    }
   ],
   "source": [
    "print(\"***Financial Analysis***\\n-------------------------\\n\"+\n",
    "    \"Total months: \"+ str(month_total)+\n",
    "    \"\\nTotal: $\"+ str(profit_loss_sum)+\n",
    "    \"\\nAverage Change: \"+ str(calc_avr_change(profit_loss_list))+\n",
    "    \"\\nGreatest Increase in Profits: \" + str(greatest_increase(bank_info_df,profit_loss_list))+\n",
    "    \"\\nGreatest Loss in Profits: \" + str(greatest_loss(bank_info_df,profit_loss_list)))\n",
    "\n",
    "\n",
    "print(\"\\n\\n\\n\\nHow can I use iloc or a df indexing and not return the Name and dtype???????\")\n",
    "\n",
    "\n"
   ]
  },
  {
   "cell_type": "code",
   "execution_count": 214,
   "metadata": {},
   "outputs": [],
   "source": [
    "text_file = open(\"Output.txt\", \"w\")\n",
    "text_file.write(\"***Financial Analysis***\\n-------------------------\\n\"+\n",
    "    \"Total months: \"+ str(month_total)+\n",
    "    \"\\nTotal: $\"+ str(profit_loss_sum)+\n",
    "    \"\\nAverage Change: \"+ str(calc_avr_change(profit_loss_list))+\n",
    "    \"\\nGreatest Increase in Profits: \" + str(greatest_increase(bank_info_df,profit_loss_list))+\n",
    "    \"\\nGreatest Loss in Profits: \" + str(greatest_loss(bank_info_df,profit_loss_list))+\n",
    "    \"\\n\\n\\n\\nHow can I use iloc or a df indexing and not return the Name and dtype???????\")\n",
    "text_file.close()"
   ]
  },
  {
   "cell_type": "code",
   "execution_count": null,
   "metadata": {},
   "outputs": [],
   "source": []
  }
 ],
 "metadata": {
  "kernelspec": {
   "display_name": "Python 3",
   "language": "python",
   "name": "python3"
  },
  "language_info": {
   "codemirror_mode": {
    "name": "ipython",
    "version": 3
   },
   "file_extension": ".py",
   "mimetype": "text/x-python",
   "name": "python",
   "nbconvert_exporter": "python",
   "pygments_lexer": "ipython3",
   "version": "3.6.0"
  }
 },
 "nbformat": 4,
 "nbformat_minor": 2
}
